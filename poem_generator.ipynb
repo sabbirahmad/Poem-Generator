{
 "cells": [
  {
   "cell_type": "markdown",
   "metadata": {},
   "source": [
    "# Assignment 2"
   ]
  },
  {
   "cell_type": "markdown",
   "metadata": {},
   "source": [
    "Use this notebook to write your code for assignment 2"
   ]
  },
  {
   "cell_type": "code",
   "execution_count": 2,
   "metadata": {
    "collapsed": true
   },
   "outputs": [],
   "source": [
    "import copy\n",
    "import numpy as np\n",
    "import matplotlib.pyplot as plt\n",
    "import torch\n",
    "import torch.nn as nn\n",
    "import torchvision\n",
    "import torchvision.transforms as transforms\n",
    "import torch.nn.functional as F\n",
    "import torch.optim as optim\n",
    "%matplotlib inline\n",
    "# Device configuration\n",
    "# device = torch.device('cuda:0' if torch.cuda.is_available() else 'cpu')\n",
    "device = 'cpu'"
   ]
  },
  {
   "cell_type": "markdown",
   "metadata": {},
   "source": [
    "# Baseline Model"
   ]
  },
  {
   "cell_type": "markdown",
   "metadata": {},
   "source": [
    "# Pre-processing data\n",
    "\n",
    "Read the data file of `shakespeare.txt` and prepare the inputs/outputs to your model."
   ]
  },
  {
   "cell_type": "code",
   "execution_count": 23,
   "metadata": {
    "collapsed": true
   },
   "outputs": [],
   "source": [
    "def one_hot(p, dim):\n",
    "    t = np.array(p)\n",
    "    o = np.zeros(t.shape+(dim,), dtype=int)\n",
    "    o[np.arange(t.shape[0]), t] = 1\n",
    "    return o"
   ]
  },
  {
   "cell_type": "code",
   "execution_count": 24,
   "metadata": {
    "collapsed": true
   },
   "outputs": [],
   "source": [
    "### read data\n",
    "# data = open('data/shakespeare.txt').read()\n",
    "# data = data.lower()"
   ]
  },
  {
   "cell_type": "code",
   "execution_count": 25,
   "metadata": {
    "collapsed": true
   },
   "outputs": [],
   "source": [
    "# modify dataset to remove sonnet numbers and extrenuous newlines\n",
    "# read data for modification\n",
    "\n",
    "with open('data/shakespeare.txt') as data_file:\n",
    "    lines = data_file.readlines()\n",
    "\n",
    "i = 0\n",
    "data_mod = \"\"\n",
    "for line in lines:\n",
    "    line = line.lower()\n",
    "    line = line.strip(\" \")\n",
    "    line_digit = line.strip()\n",
    "    if len(line) == 0 or line == ' ':\n",
    "#         print('blank')\n",
    "        continue\n",
    "    elif line_digit.isdigit():\n",
    "#         print(line)\n",
    "        continue\n",
    "#     elif line == '\\n':\n",
    "# #         print('new line')\n",
    "#         continue\n",
    "    \n",
    "#     print('--->', line)\n",
    "    data_mod += line\n",
    "    \n",
    "#     i += 1\n",
    "#     if i > 20:\n",
    "#         break\n",
    "\n",
    "data = data_mod\n",
    "# print(data)"
   ]
  },
  {
   "cell_type": "code",
   "execution_count": 26,
   "metadata": {},
   "outputs": [
    {
     "name": "stdout",
     "output_type": "stream",
     "text": [
      "(23485, 40, 1)\n",
      "(23485,)\n"
     ]
    }
   ],
   "source": [
    "unique_char = sorted(list(set(data)))  # unique characters present\n",
    "int_to_char = {n:char for n, char in enumerate(unique_char)}  # mapping for char to integer\n",
    "char_to_int = {char:n for n, char in enumerate(unique_char)}  # mapping for integer to character\n",
    "X = []\n",
    "Y = []\n",
    "data_length = len(data)\n",
    "sequence_length = 40   # fixed length sequnce of 40 characters\n",
    "skip_length = 4   # start every 5th character for a new sequence\n",
    "sonnet_line = 0\n",
    "for i in range(0, data_length-sequence_length, skip_length):\n",
    "    seq = data[i:i+sequence_length]  # generate sequence\n",
    "    label = data[i+sequence_length]  # next character as the label for prediction\n",
    "    # print(seq, '--->', label)\n",
    "    X.append([char_to_int[char] for char in seq])\n",
    "    Y.append(char_to_int[label])\n",
    "    \n",
    "    # sonnet_line += 1\n",
    "    # if sonnet_line > 320:\n",
    "    #   break\n",
    "    \n",
    "### reshaping the data\n",
    "# print(len(X))\n",
    "Xd = np.reshape(X, (len(X), sequence_length, 1))  \n",
    "Xd = Xd/len(unique_char)  # divide each value by the number of unique character to keep the value in [0,1]\n",
    "# Yd = one_hot(Y, len(unique_char))\n",
    "# Yd = np.reshape(Y, (-1, 1))\n",
    "Yd = np.array(Y)\n",
    "print(Xd.shape)\n",
    "print(Yd.shape)"
   ]
  },
  {
   "cell_type": "code",
   "execution_count": 27,
   "metadata": {},
   "outputs": [],
   "source": [
    "# parameters\n",
    "seq_length = 40\n",
    "input_feature = 1  # feature for each timestep in the sequence\n",
    "batch_size = 32 \n",
    "char_set_size = len(unique_char)  # unique character set -> number of possible classes for output\n",
    "hidden_size = 150  # lstm units\n",
    "lstm_layers = 1  \n",
    "learning_rate = 0.01\n",
    "n_epochs = 100"
   ]
  },
  {
   "cell_type": "markdown",
   "metadata": {},
   "source": [
    "# Build the Model\n",
    "\n",
    "Implement a character-based LSTM model "
   ]
  },
  {
   "cell_type": "code",
   "execution_count": 28,
   "metadata": {
    "collapsed": true
   },
   "outputs": [],
   "source": [
    "###\n",
    "class Poem(nn.Module):\n",
    "    def __init__(self, sequence_length, input_size, hidden_size, num_layers, output_size, device):\n",
    "        super(Poem, self).__init__()\n",
    "        \n",
    "        self.hidden_size = hidden_size\n",
    "        self.num_layers = num_layers\n",
    "        self.output_size = output_size\n",
    "        self.sequence_length = sequence_length\n",
    "        self.device=device\n",
    "        \n",
    "        self.lstm = nn.LSTM(input_size=input_size, hidden_size=hidden_size, num_layers=num_layers, batch_first=True, dropout=0)\n",
    "        \n",
    "        self.fc = nn.Linear(hidden_size*sequence_length, output_size)\n",
    "\n",
    "    def init_hidden(self, batch_size):\n",
    "        self.h0 = torch.zeros(self.num_layers, batch_size, self.hidden_size, device=self.device)\n",
    "        self.c0 = torch.zeros(self.num_layers, batch_size, self.hidden_size, device=self.device)\n",
    "        \n",
    "    def forward(self, x, T=1):  # T is temperature\n",
    "        x, (self.h0, self.c0) = self.lstm(x, (self.h0, self.c0))\n",
    "        x = x.contiguous().view(-1, self.hidden_size*self.sequence_length)\n",
    "        x = self.fc(x)\n",
    "#         x = x.view(-1, self.output_size)\n",
    "        out = F.log_softmax(x/T, dim=1)  # use temperature for softmax\n",
    "        return out\n",
    "        "
   ]
  },
  {
   "cell_type": "code",
   "execution_count": 29,
   "metadata": {},
   "outputs": [],
   "source": [
    "poem_generator = Poem(seq_length, input_feature, hidden_size, lstm_layers, char_set_size, device).to(device)"
   ]
  },
  {
   "cell_type": "markdown",
   "metadata": {},
   "source": [
    "# Training"
   ]
  },
  {
   "cell_type": "markdown",
   "metadata": {},
   "source": [
    "The main training routine"
   ]
  },
  {
   "cell_type": "code",
   "execution_count": 30,
   "metadata": {},
   "outputs": [],
   "source": [
    "###\n",
    "criterion = nn.CrossEntropyLoss()\n",
    "optimizer = optim.Adam(poem_generator.parameters(), lr=learning_rate)\n",
    "\n",
    "## function to train each batch\n",
    "def batch_train(Xb, Yb):\n",
    "    poem_generator.train()\n",
    "    optimizer.zero_grad()\n",
    "    poem_generator.init_hidden(Xb.shape[0])\n",
    "    \n",
    "    output = poem_generator(Xb)\n",
    "    \n",
    "    loss = criterion(output, Yb)\n",
    "    ls = loss.item()\n",
    "    loss.backward()\n",
    "    optimizer.step()\n",
    "    \n",
    "    return ls\n",
    "\n",
    "\n",
    "# function to train the the whole data\n",
    "def train_model(dataX, dataY, batch_size, epochs=10):\n",
    "    min_loss = np.inf\n",
    "    train_losses = []\n",
    "    for epoch in range(0, epochs):\n",
    "        train_loss = 0.0\n",
    "        # create each batch and train\n",
    "        for i in range(0, dataX.shape[0]-batch_size, batch_size):\n",
    "            Xb = dataX[i:i+batch_size]\n",
    "            Yb = dataY[i:i+batch_size]\n",
    "            ls = batch_train(torch.tensor(Xb, dtype=torch.float), torch.tensor(Yb, dtype=torch.long))\n",
    "            train_loss += (ls/batch_size)\n",
    "        \n",
    "        train_losses.append(train_loss)\n",
    "        \n",
    "        # save each model if performs better (decrease loss)\n",
    "        if min_loss > train_loss:\n",
    "            min_loss = train_loss\n",
    "            torch.save(poem_generator.state_dict(), 'model_poem_generator.pt')\n",
    "        print('epoch: ', epoch, 'training loss: ', train_loss)\n",
    "    \n",
    "    return train_losses"
   ]
  },
  {
   "cell_type": "code",
   "execution_count": 31,
   "metadata": {},
   "outputs": [
    {
     "name": "stdout",
     "output_type": "stream",
     "text": [
      "epoch:  0 training loss:  66.16970977932215\n",
      "epoch:  1 training loss:  62.88809998333454\n",
      "epoch:  2 training loss:  60.491877403110266\n",
      "epoch:  3 training loss:  58.678540863096714\n",
      "epoch:  4 training loss:  57.14617080613971\n",
      "epoch:  5 training loss:  55.86824053525925\n",
      "epoch:  6 training loss:  54.7526436522603\n",
      "epoch:  7 training loss:  53.96850232034922\n",
      "epoch:  8 training loss:  53.49685489013791\n",
      "epoch:  9 training loss:  52.68392889946699\n",
      "epoch:  10 training loss:  52.31083453819156\n",
      "epoch:  11 training loss:  51.56176011823118\n",
      "epoch:  12 training loss:  51.236208245158195\n",
      "epoch:  13 training loss:  50.40342712402344\n",
      "epoch:  14 training loss:  49.99356620013714\n",
      "epoch:  15 training loss:  49.23635776154697\n",
      "epoch:  16 training loss:  48.31373192742467\n",
      "epoch:  17 training loss:  47.852174861356616\n",
      "epoch:  18 training loss:  47.393296082504094\n",
      "epoch:  19 training loss:  46.033346362411976\n",
      "epoch:  20 training loss:  46.9768788870424\n",
      "epoch:  21 training loss:  49.157874894328415\n",
      "epoch:  22 training loss:  46.361542612314224\n",
      "epoch:  23 training loss:  45.054925850592554\n",
      "epoch:  24 training loss:  43.78072190284729\n",
      "epoch:  25 training loss:  43.652050798758864\n",
      "epoch:  26 training loss:  43.13045143336058\n",
      "epoch:  27 training loss:  41.680317521095276\n",
      "epoch:  28 training loss:  42.46852435544133\n",
      "epoch:  29 training loss:  40.44997919443995\n",
      "epoch:  30 training loss:  40.05954480636865\n",
      "epoch:  31 training loss:  39.54577102418989\n",
      "epoch:  32 training loss:  39.826592084020376\n",
      "epoch:  33 training loss:  40.477965304628015\n",
      "epoch:  34 training loss:  40.40496912691742\n",
      "epoch:  35 training loss:  39.398644608445466\n",
      "epoch:  36 training loss:  38.08893255144358\n",
      "epoch:  37 training loss:  37.674241938628256\n",
      "epoch:  38 training loss:  36.50175337959081\n",
      "epoch:  39 training loss:  35.90079963300377\n",
      "epoch:  40 training loss:  34.85235336236656\n",
      "epoch:  41 training loss:  34.46843353938311\n",
      "epoch:  42 training loss:  34.72540925722569\n",
      "epoch:  43 training loss:  34.467610822059214\n",
      "epoch:  44 training loss:  33.317347805947065\n",
      "epoch:  45 training loss:  31.97073667589575\n",
      "epoch:  46 training loss:  38.6038643848151\n",
      "epoch:  47 training loss:  39.25092810019851\n",
      "epoch:  48 training loss:  33.8086759718135\n",
      "epoch:  49 training loss:  31.637966717593372\n",
      "epoch:  50 training loss:  29.81584958266467\n",
      "epoch:  51 training loss:  28.87059708684683\n",
      "epoch:  52 training loss:  28.63979935273528\n",
      "epoch:  53 training loss:  357.1812766548246\n",
      "epoch:  54 training loss:  904.530076622963\n",
      "epoch:  55 training loss:  843.5627515912056\n",
      "epoch:  56 training loss:  738.0641320347786\n",
      "epoch:  57 training loss:  687.8237996101379\n",
      "epoch:  58 training loss:  627.9708425402641\n",
      "epoch:  59 training loss:  566.1933262050152\n",
      "epoch:  60 training loss:  512.7278240025043\n",
      "epoch:  61 training loss:  453.03736931085587\n",
      "epoch:  62 training loss:  424.05054727196693\n",
      "epoch:  63 training loss:  398.515471637249\n",
      "epoch:  64 training loss:  367.04893586039543\n",
      "epoch:  65 training loss:  332.0309949964285\n",
      "epoch:  66 training loss:  294.42546305060387\n",
      "epoch:  67 training loss:  293.7908828854561\n",
      "epoch:  68 training loss:  274.1259546279907\n",
      "epoch:  69 training loss:  262.5887752920389\n",
      "epoch:  70 training loss:  248.06918275356293\n",
      "epoch:  71 training loss:  231.41059863567352\n",
      "epoch:  72 training loss:  222.15575391054153\n",
      "epoch:  73 training loss:  208.9664708673954\n",
      "epoch:  74 training loss:  202.71354627609253\n",
      "epoch:  75 training loss:  250.04767955839634\n",
      "epoch:  76 training loss:  290.95276542007923\n",
      "epoch:  77 training loss:  264.3568584173918\n",
      "epoch:  78 training loss:  245.51652370393276\n",
      "epoch:  79 training loss:  213.5241106748581\n",
      "epoch:  80 training loss:  202.69199158251286\n",
      "epoch:  81 training loss:  227.80740803480148\n",
      "epoch:  82 training loss:  224.14629104733467\n",
      "epoch:  83 training loss:  212.08955086767673\n",
      "epoch:  84 training loss:  217.4951169192791\n",
      "epoch:  85 training loss:  206.71975468099117\n",
      "epoch:  86 training loss:  189.5126887112856\n",
      "epoch:  87 training loss:  184.40594260394573\n",
      "epoch:  88 training loss:  176.92506515979767\n",
      "epoch:  89 training loss:  176.76839619874954\n",
      "epoch:  90 training loss:  173.87570422887802\n",
      "epoch:  91 training loss:  185.42632669210434\n",
      "epoch:  92 training loss:  196.83828407526016\n",
      "epoch:  93 training loss:  211.8398873358965\n",
      "epoch:  94 training loss:  212.42977131903172\n",
      "epoch:  95 training loss:  215.78104089200497\n",
      "epoch:  96 training loss:  203.8361636698246\n",
      "epoch:  97 training loss:  188.04473565518856\n",
      "epoch:  98 training loss:  181.30195319652557\n",
      "epoch:  99 training loss:  185.50836127996445\n"
     ]
    }
   ],
   "source": [
    "## train the model\n",
    "n_epochs = 100\n",
    "train_losses = train_model(Xd, Yd, batch_size, epochs=n_epochs)"
   ]
  },
  {
   "cell_type": "markdown",
   "metadata": {},
   "source": [
    "Poem Generation"
   ]
  },
  {
   "cell_type": "code",
   "execution_count": 32,
   "metadata": {
    "collapsed": true
   },
   "outputs": [],
   "source": [
    "### function to generate poems from a seed\n",
    "\n",
    "def generate_poem(poem_model, initial_seed, num_char_gen, t=1):  # num_char_gen: how many characters is to be generated\n",
    "    seed = copy.deepcopy(initial_seed)  # random seed\n",
    "    generated_poem = [int_to_char[value] for value in seed]\n",
    "    \n",
    "    for i in range(num_char_gen):\n",
    "        Xt = np.reshape(seed, (1, len(seed), 1))\n",
    "        Xt = Xt/char_set_size\n",
    "\n",
    "        Xt = torch.tensor(Xt, dtype=torch.float)\n",
    "        poem_model.init_hidden(Xt.shape[0])\n",
    "        y = torch.argmax(poem_model(Xt, T=t))\n",
    "        index = y.numpy().item(0)\n",
    "\n",
    "        generated_poem.append(int_to_char[index])\n",
    "\n",
    "        ## consider next seed by taking the last 40-characters including the predicted new character\n",
    "        seed.append(index)\n",
    "        seed = seed[1:len(seed)]\n",
    "        \n",
    "    poem_text = \"\"\n",
    "    for char in generated_poem:\n",
    "        poem_text += char\n",
    "\n",
    "#     print(poem_text)\n",
    "    return poem_text"
   ]
  },
  {
   "cell_type": "markdown",
   "metadata": {},
   "source": [
    "## Generate Poem"
   ]
  },
  {
   "cell_type": "code",
   "execution_count": 33,
   "metadata": {
    "collapsed": true
   },
   "outputs": [],
   "source": [
    "## load the saved model\n",
    "poem_model = Poem(seq_length, input_feature, hidden_size, lstm_layers, char_set_size, device).to(device)\n",
    "poem_model.load_state_dict(torch.load('model_poem_generator.pt'))"
   ]
  },
  {
   "cell_type": "code",
   "execution_count": 49,
   "metadata": {
    "scrolled": true
   },
   "outputs": [
    {
     "name": "stdout",
     "output_type": "stream",
     "text": [
      "thereby beauty's rose might never die,\n",
      "bod ths hermpse thfls tiun ooe hatme iy t:y iedt whetheh po ho sia teesu thov toa tosesge gl tiy sems heue,ltoneyhnns?iye,\n",
      "inv fod moi maldmlef fo aidec psohd tha tith, oytuy lftiy fouia io sei whmn. on thyec thy blvia toee ia,tti toyy iattt: wiin gerdry loeke tow sieue,\n",
      "thot oh mat sia helme lo to theh thete,\n",
      "thi colrr io to thef tooue,s tfeci rp to the golld than.\n",
      "ther gnus oo ml shlt thetu,s oy \n"
     ]
    }
   ],
   "source": [
    "# generate a poem with 400 predicted characters with temperature 1, with random seed X[12] from data\n",
    "\n",
    "print(generate_poem(poem_model, X[12], 400, t=1))  # random seed X[12]"
   ]
  },
  {
   "cell_type": "markdown",
   "metadata": {},
   "source": [
    "# Plotting the Training Losses\n",
    "\n",
    "Plotting the historical loss during training:"
   ]
  },
  {
   "cell_type": "code",
   "execution_count": 40,
   "metadata": {},
   "outputs": [
    {
     "data": {
      "image/png": "[encoded data removed]",
      "text/plain": [
       "<Figure size 432x288 with 1 Axes>"
      ]
     },
     "metadata": {},
     "output_type": "display_data"
    },
    {
     "data": {
      "image/png": "[encoded data removed]",
      "text/plain": [
       "<Figure size 432x288 with 1 Axes>"
      ]
     },
     "metadata": {},
     "output_type": "display_data"
    }
   ],
   "source": [
    "###\n",
    "#************************************#\n",
    "# print('Epoch\\tTraining Loss')\n",
    "# for i in range(n_epochs):\n",
    "#    print(i+1, '\\t{:.8f}'.format(train_losses[i]))\n",
    "\n",
    "plt.plot(train_losses, label='Loss')\n",
    "plt.legend(frameon=False)\n",
    "plt.xlabel('epochs')\n",
    "plt.ylabel('training loss')\n",
    "plt.title('Traning Loss for 100 epochs')\n",
    "plt.show()\n",
    "#************************************#\n",
    "\n",
    "\n",
    "## training loss for first 52 epochs\n",
    "plt.plot(train_losses[:52], label='Loss')\n",
    "plt.legend(frameon=False)\n",
    "plt.xlabel('epochs')\n",
    "plt.ylabel('training loss')\n",
    "plt.title('Traning Loss for first 52 epochs')\n",
    "plt.show()"
   ]
  },
  {
   "cell_type": "markdown",
   "metadata": {},
   "source": [
    "# Evaluating at different \"temperatures\"\n",
    "\n",
    "Changing the `temperature` argument (variance) for 1.5, 0.75. 0.25 and sample outputs from the trained model."
   ]
  },
  {
   "cell_type": "code",
   "execution_count": 36,
   "metadata": {},
   "outputs": [
    {
     "name": "stdout",
     "output_type": "stream",
     "text": [
      "Temperature:  1.5\n",
      "------------------------------------------------------------------\n",
      "shall i compare thee to a summer's day?\n",
      "osrn eeiaso fnd deenh: sw heaeth co thg,srm. hendite fr i vr,py lfee thdt, thanr iiatf ene lin shrt whete tuet thih arla in c iovldd enteht.\n",
      "why hnlr thlfrest ho f soiic fnananr\n",
      "tioc, toatogette oo si soass iea tywen shite to toecc fote: saklni toa eoyo'to, cey hn i coewiln lfaet\n",
      "ohu ayu aai taeevn vhoe teot oy thas shn ieier shy sheferten thon mo coe iease loase\n",
      "toeltgt,\n",
      "then iy toi, ialdy fodd v\n",
      "------------------------------------------------------------------\n",
      "Temperature:  0.75\n",
      "------------------------------------------------------------------\n",
      "shall i compare thee to a summer's day?\n",
      "osrn eeiaso fnd deenh: sw heaeth co thg,srm. hendite fr i vr,py lfee thdt, thanr iiatf ene lin shrt whete tuet thih arla in c iovldd enteht.\n",
      "why hnlr thlfrest ho f soiic fnananr\n",
      "tioc, toatogette oo si soass iea tywen shite to toecc fote: saklni toa eoyo'to, cey hn i coewiln lfaet\n",
      "ohu ayu aai taeevn vhoe teot oy thas shn ieier shy sheferten thon mo coe iease loase\n",
      "toeltgt,\n",
      "then iy toi, ialdy fodd v\n",
      "------------------------------------------------------------------\n",
      "Temperature:  0.25\n",
      "------------------------------------------------------------------\n",
      "shall i compare thee to a summer's day?\n",
      "osrn eeiaso fnd deenh: sw heaeth co thg,srm. hendite fr i vr,py lfee thdt, thanr iiatf ene lin shrt whete tuet thih arla in c iovldd enteht.\n",
      "why hnlr thlfrest ho f soiic fnananr\n",
      "tioc, toatogette oo si soass iea tywen shite to toecc fote: saklni toa eoyo'to, cey hn i coewiln lfaet\n",
      "ohu ayu aai taeevn vhoe teot oy thas shn ieier shy sheferten thon mo coe iease loase\n",
      "toeltgt,\n",
      "then iy toi, ialdy fodd v\n",
      "------------------------------------------------------------------\n"
     ]
    }
   ],
   "source": [
    "### generate poems for different temperatures\n",
    "ts = [1.5, 0.75, 0.25]\n",
    "seed_str = \"shall i compare thee to a summer's day?\\n\"\n",
    "seed = [char_to_int[char] for char in seed_str]\n",
    "\n",
    "for temp in ts:\n",
    "    poem_model = Poem(seq_length, input_feature, hidden_size, lstm_layers, char_set_size, device).to(device)\n",
    "    poem_model.load_state_dict(torch.load('model_poem_generator.pt'))\n",
    "    \n",
    "    poem = generate_poem(poem_model, seed, 400, t=temp)\n",
    "\n",
    "    print('Temperature: ', temp)\n",
    "    print('------------------------------------------------------------------')\n",
    "    print(poem)\n",
    "    print('------------------------------------------------------------------')"
   ]
  },
  {
   "cell_type": "markdown",
   "metadata": {
    "collapsed": true
   },
   "source": [
    "# Improved Model"
   ]
  },
  {
   "cell_type": "code",
   "execution_count": 355,
   "metadata": {},
   "outputs": [],
   "source": [
    "import nltk\n",
    "# nltk.download()\n",
    "from nltk.tokenize import RegexpTokenizer"
   ]
  },
  {
   "cell_type": "markdown",
   "metadata": {},
   "source": [
    "# Pre-processing data\n",
    "\n",
    "Read the data file of `shakespeare.txt` and prepare the inputs/outputs to your model."
   ]
  },
  {
   "cell_type": "code",
   "execution_count": 356,
   "metadata": {},
   "outputs": [],
   "source": [
    "data = open('data/shakespeare.txt').read()\n",
    "# word_data = nltk.word_tokenize(data)\n",
    "tokenizer = RegexpTokenizer('\\w+|\\S+|\\\\n+')  # tokenize the data\n",
    "word_data_raw = tokenizer.tokenize(data)\n",
    "word_data = [word.lower() for word in word_data_raw]  # convert to lowercase"
   ]
  },
  {
   "cell_type": "code",
   "execution_count": 357,
   "metadata": {},
   "outputs": [
    {
     "name": "stdout",
     "output_type": "stream",
     "text": [
      "(5760, 10, 1)\n",
      "(5760,)\n"
     ]
    }
   ],
   "source": [
    "unique_words = sorted(list(set(word_data)))  # unique number of words\n",
    "int_to_word = {n:word for n, word in enumerate(unique_words)}  # map wod to integer\n",
    "word_to_int = {word:n for n, word in enumerate(unique_words)}  # map integer to word\n",
    "X = []\n",
    "Y = []\n",
    "data_length = len(word_data)\n",
    "sequence_length = 10   # sequence of 10-words\n",
    "skip_length = 4  # start every 5th word for a new sequence\n",
    "for i in range(0, data_length-sequence_length, skip_length):\n",
    "    seq = word_data[i:i+sequence_length]\n",
    "    label = word_data[i+sequence_length]\n",
    "#     print(seq, ' -->', label)\n",
    "#     break\n",
    "    X.append([word_to_int[word] for word in seq])\n",
    "    Y.append(word_to_int[label])\n",
    "    \n",
    "# # print(len(X))\n",
    "Xd = np.reshape(X, (len(X), sequence_length, 1))\n",
    "Xd = Xd/len(unique_words)\n",
    "# # Yd = one_hot(Y, len(unique_char))\n",
    "# # Yd = np.reshape(Y, (-1, 1))\n",
    "Yd = np.array(Y)\n",
    "print(Xd.shape)\n",
    "print(Yd.shape)"
   ]
  },
  {
   "cell_type": "code",
   "execution_count": 360,
   "metadata": {},
   "outputs": [],
   "source": [
    "# parameters\n",
    "seq_length = 10  # each sequence is 10 words\n",
    "input_feature = 1  # each timestep of the sequence has one feature (only the word)\n",
    "batch_size = 32\n",
    "word_set_size = len(unique_words)\n",
    "hidden_size = 150\n",
    "lstm_layers = 2\n",
    "learning_rate = 0.001\n",
    "n_epochs = 200"
   ]
  },
  {
   "cell_type": "markdown",
   "metadata": {},
   "source": [
    "# Build the Model\n",
    "\n",
    "Implement a character-based LSTM model "
   ]
  },
  {
   "cell_type": "code",
   "execution_count": 353,
   "metadata": {},
   "outputs": [],
   "source": [
    "###\n",
    "class Poem(nn.Module):\n",
    "    def __init__(self, sequence_length, input_size, hidden_size, num_layers, output_size, device):\n",
    "        super(Poem, self).__init__()\n",
    "        \n",
    "        self.hidden_size = hidden_size\n",
    "        self.num_layers = num_layers\n",
    "        self.output_size = output_size\n",
    "        self.sequence_length = sequence_length\n",
    "        self.device=device\n",
    "        \n",
    "        self.lstm = nn.LSTM(input_size=input_size, hidden_size=hidden_size, num_layers=num_layers, batch_first=True, dropout=0.2)\n",
    "        \n",
    "        self.fc = nn.Linear(hidden_size*sequence_length, output_size)\n",
    "\n",
    "    def init_hidden(self, batch_size):\n",
    "        self.h0 = torch.zeros(self.num_layers, batch_size, self.hidden_size, device=self.device)\n",
    "        self.c0 = torch.zeros(self.num_layers, batch_size, self.hidden_size, device=self.device)\n",
    "        \n",
    "    def forward(self, x, T=1):\n",
    "        x, (self.h0, self.c0) = self.lstm(x, (self.h0, self.c0))\n",
    "        x = x.contiguous().view(-1, self.hidden_size*self.sequence_length)\n",
    "        x = self.fc(x)\n",
    "#         x = x.view(-1, self.output_size)\n",
    "        out = F.log_softmax(x/T, dim=1)\n",
    "        return out\n",
    "        "
   ]
  },
  {
   "cell_type": "code",
   "execution_count": 361,
   "metadata": {},
   "outputs": [],
   "source": [
    "poem_word_gen = Poem(seq_length, input_feature, hidden_size, lstm_layers, word_set_size, device).to(device)"
   ]
  },
  {
   "cell_type": "markdown",
   "metadata": {},
   "source": [
    "# Training"
   ]
  },
  {
   "cell_type": "code",
   "execution_count": 362,
   "metadata": {},
   "outputs": [],
   "source": [
    "###\n",
    "criterion = nn.CrossEntropyLoss()\n",
    "optimizer = optim.Adam(poem_word_gen.parameters(), lr=learning_rate)\n",
    "\n",
    "def batch_train(Xb, Yb):\n",
    "    poem_word_gen.train()\n",
    "    optimizer.zero_grad()\n",
    "    poem_word_gen.init_hidden(Xb.shape[0])\n",
    "    \n",
    "    output = poem_word_gen(Xb)\n",
    "    \n",
    "    loss = criterion(output, Yb)\n",
    "    ls = loss.item()\n",
    "    loss.backward()\n",
    "    optimizer.step()\n",
    "    \n",
    "    return ls\n",
    "\n",
    "\n",
    "def train_model(dataX, dataY, batch_size, epochs=10):\n",
    "    min_loss = np.inf\n",
    "    train_losses = []\n",
    "    for epoch in range(0, epochs):\n",
    "        train_loss = 0.0\n",
    "        for i in range(0, dataX.shape[0]-batch_size, batch_size):\n",
    "            Xb = dataX[i:i+batch_size]\n",
    "            Yb = dataY[i:i+batch_size]\n",
    "            ls = batch_train(torch.tensor(Xb, dtype=torch.float), torch.tensor(Yb, dtype=torch.long))\n",
    "            train_loss += (ls/batch_size)\n",
    "        \n",
    "        train_losses.append(train_loss)\n",
    "        \n",
    "        if min_loss > train_loss:\n",
    "            torch.save(poem_word_gen.state_dict(), 'model_poem_word_gen.pt')\n",
    "        print('epoch: ', epoch, 'training loss: ', train_loss)\n",
    "    \n",
    "    return train_losses"
   ]
  },
  {
   "cell_type": "code",
   "execution_count": 367,
   "metadata": {},
   "outputs": [
    {
     "name": "stdout",
     "output_type": "stream",
     "text": [
      "epoch:  0 training loss:  25.219044387340546\n",
      "epoch:  1 training loss:  24.219913199543953\n",
      "epoch:  2 training loss:  22.74398197978735\n",
      "epoch:  3 training loss:  21.535372279584408\n",
      "epoch:  4 training loss:  20.211220860481262\n",
      "epoch:  5 training loss:  19.232039593160152\n",
      "epoch:  6 training loss:  18.52796360850334\n",
      "epoch:  7 training loss:  17.622257478535175\n",
      "epoch:  8 training loss:  16.86232427507639\n",
      "epoch:  9 training loss:  15.745437614619732\n",
      "epoch:  10 training loss:  14.63109540939331\n",
      "epoch:  11 training loss:  13.646901305764914\n",
      "epoch:  12 training loss:  13.279575016349554\n",
      "epoch:  13 training loss:  12.976843737065792\n",
      "epoch:  14 training loss:  12.99454179033637\n",
      "epoch:  15 training loss:  12.713953647762537\n",
      "epoch:  16 training loss:  12.075177896767855\n",
      "epoch:  17 training loss:  11.764136828482151\n",
      "epoch:  18 training loss:  11.280697837471962\n",
      "epoch:  19 training loss:  10.921795386821032\n",
      "epoch:  20 training loss:  10.336600851267576\n",
      "epoch:  21 training loss:  9.497475251555443\n",
      "epoch:  22 training loss:  8.870605442672968\n",
      "epoch:  23 training loss:  8.4477713778615\n",
      "epoch:  24 training loss:  7.8350909892469645\n",
      "epoch:  25 training loss:  7.358036125078797\n",
      "epoch:  26 training loss:  6.770152967423201\n",
      "epoch:  27 training loss:  6.292540244758129\n",
      "epoch:  28 training loss:  5.9309013821184635\n",
      "epoch:  29 training loss:  5.858147297054529\n",
      "epoch:  30 training loss:  5.902661144733429\n",
      "epoch:  31 training loss:  6.032309286296368\n",
      "epoch:  32 training loss:  6.084585193544626\n",
      "epoch:  33 training loss:  6.02461463958025\n",
      "epoch:  34 training loss:  5.820003816857934\n",
      "epoch:  35 training loss:  5.775320558808744\n",
      "epoch:  36 training loss:  5.553797140717506\n",
      "epoch:  37 training loss:  5.386902218684554\n",
      "epoch:  38 training loss:  5.095040169544518\n",
      "epoch:  39 training loss:  4.805640831589699\n",
      "epoch:  40 training loss:  4.560049162246287\n",
      "epoch:  41 training loss:  4.16322257462889\n",
      "epoch:  42 training loss:  3.829032801091671\n",
      "epoch:  43 training loss:  3.565764024388045\n",
      "epoch:  44 training loss:  3.4008093127049506\n",
      "epoch:  45 training loss:  3.2221149737015367\n",
      "epoch:  46 training loss:  3.056226396933198\n",
      "epoch:  47 training loss:  2.9551756880246103\n",
      "epoch:  48 training loss:  2.8363937214016914\n",
      "epoch:  49 training loss:  2.6937031247653067\n",
      "epoch:  50 training loss:  2.5159973590634763\n",
      "epoch:  51 training loss:  2.285234908107668\n",
      "epoch:  52 training loss:  2.010607629083097\n",
      "epoch:  53 training loss:  1.7676924434490502\n",
      "epoch:  54 training loss:  1.5580658884719014\n",
      "epoch:  55 training loss:  1.5109473983757198\n",
      "epoch:  56 training loss:  1.392384517705068\n",
      "epoch:  57 training loss:  1.2547521842643619\n",
      "epoch:  58 training loss:  1.1878187553957105\n",
      "epoch:  59 training loss:  1.1102712939027697\n",
      "epoch:  60 training loss:  1.0216640298021957\n",
      "epoch:  61 training loss:  0.9755073849810287\n",
      "epoch:  62 training loss:  0.9337425256380811\n",
      "epoch:  63 training loss:  0.8750472270185128\n",
      "epoch:  64 training loss:  0.8169907474657521\n",
      "epoch:  65 training loss:  0.7586238892981783\n",
      "epoch:  66 training loss:  0.7195531988982111\n",
      "epoch:  67 training loss:  0.6627086927182972\n",
      "epoch:  68 training loss:  0.6453490689164028\n",
      "epoch:  69 training loss:  0.6289922180003487\n",
      "epoch:  70 training loss:  0.5758945978595875\n",
      "epoch:  71 training loss:  0.5792703900951892\n",
      "epoch:  72 training loss:  0.6092858861666173\n",
      "epoch:  73 training loss:  0.6675836364738643\n",
      "epoch:  74 training loss:  0.5935977073095273\n",
      "epoch:  75 training loss:  0.63962328893831\n",
      "epoch:  76 training loss:  0.5524776082893368\n",
      "epoch:  77 training loss:  0.6222359864623286\n",
      "epoch:  78 training loss:  0.5539204622618854\n",
      "epoch:  79 training loss:  0.5395058582653292\n",
      "epoch:  80 training loss:  0.5360868528950959\n",
      "epoch:  81 training loss:  0.46068804842070676\n",
      "epoch:  82 training loss:  0.4658393163699657\n",
      "epoch:  83 training loss:  0.38097203109646216\n",
      "epoch:  84 training loss:  0.4258677908219397\n",
      "epoch:  85 training loss:  0.38101319113047794\n",
      "epoch:  86 training loss:  0.3696588845050428\n",
      "epoch:  87 training loss:  0.37794784069410525\n",
      "epoch:  88 training loss:  0.33269982412457466\n",
      "epoch:  89 training loss:  0.39403573860181496\n",
      "epoch:  90 training loss:  0.3323165580222849\n",
      "epoch:  91 training loss:  0.3623775376472622\n",
      "epoch:  92 training loss:  0.3060475003148895\n",
      "epoch:  93 training loss:  0.2679101037501823\n",
      "epoch:  94 training loss:  0.29219595034373924\n",
      "epoch:  95 training loss:  0.34367607477179263\n",
      "epoch:  96 training loss:  0.3104379967553541\n",
      "epoch:  97 training loss:  0.30579667605343275\n",
      "epoch:  98 training loss:  0.3315063391783042\n",
      "epoch:  99 training loss:  0.26294806426449213\n",
      "epoch:  100 training loss:  0.28250111210218165\n",
      "epoch:  101 training loss:  0.2685236766556045\n",
      "epoch:  102 training loss:  0.19032815781247336\n",
      "epoch:  103 training loss:  0.23537576585658826\n",
      "epoch:  104 training loss:  0.2563107047317317\n",
      "epoch:  105 training loss:  0.23878135174163617\n",
      "epoch:  106 training loss:  0.24976994210737757\n",
      "epoch:  107 training loss:  0.29344811730697984\n",
      "epoch:  108 training loss:  0.31578115290176356\n",
      "epoch:  109 training loss:  0.31820568889088463\n",
      "epoch:  110 training loss:  0.22868822302552871\n",
      "epoch:  111 training loss:  0.25034455259446986\n",
      "epoch:  112 training loss:  0.24679042067873525\n",
      "epoch:  113 training loss:  0.31523824941541534\n",
      "epoch:  114 training loss:  0.23190881521441042\n",
      "epoch:  115 training loss:  0.22391301384050166\n",
      "epoch:  116 training loss:  0.2663129426437081\n",
      "epoch:  117 training loss:  0.24826931634015637\n",
      "epoch:  118 training loss:  0.28626948008604813\n",
      "epoch:  119 training loss:  0.19048076278704684\n",
      "epoch:  120 training loss:  0.1692301678485819\n",
      "epoch:  121 training loss:  0.18731232693971833\n",
      "epoch:  122 training loss:  0.16438645820744568\n",
      "epoch:  123 training loss:  0.14197564126516227\n",
      "epoch:  124 training loss:  0.17178867798065767\n",
      "epoch:  125 training loss:  0.1525995033516665\n",
      "epoch:  126 training loss:  0.15928150650506723\n",
      "epoch:  127 training loss:  0.19703556992317317\n",
      "epoch:  128 training loss:  0.23762238536801306\n",
      "epoch:  129 training loss:  0.2238131646954571\n",
      "epoch:  130 training loss:  0.16246544911700767\n",
      "epoch:  131 training loss:  0.14518781801962177\n",
      "epoch:  132 training loss:  0.17231251507473644\n",
      "epoch:  133 training loss:  0.16827290070068557\n",
      "epoch:  134 training loss:  0.16017866376932943\n",
      "epoch:  135 training loss:  0.20399953228479717\n",
      "epoch:  136 training loss:  0.13464124751044437\n",
      "epoch:  137 training loss:  0.13665957219927805\n",
      "epoch:  138 training loss:  0.14462610416376265\n",
      "epoch:  139 training loss:  0.16324385047118994\n",
      "epoch:  140 training loss:  0.13448911588420742\n",
      "epoch:  141 training loss:  0.22075522675004322\n",
      "epoch:  142 training loss:  0.1409635553645785\n",
      "epoch:  143 training loss:  0.18044559366535395\n",
      "epoch:  144 training loss:  0.18839270758326165\n",
      "epoch:  145 training loss:  0.1734770556431613\n",
      "epoch:  146 training loss:  0.2734892008229508\n",
      "epoch:  147 training loss:  0.23556478092359612\n",
      "epoch:  148 training loss:  0.1584924142116506\n",
      "epoch:  149 training loss:  0.1065318752953317\n",
      "epoch:  150 training loss:  0.16062606279592728\n",
      "epoch:  151 training loss:  0.1638507639454474\n",
      "epoch:  152 training loss:  0.16813345004266012\n",
      "epoch:  153 training loss:  0.12220793905908067\n",
      "epoch:  154 training loss:  0.2242898169606633\n",
      "epoch:  155 training loss:  0.18465243469472625\n",
      "epoch:  156 training loss:  0.14153321047342615\n",
      "epoch:  157 training loss:  0.12368026042349811\n",
      "epoch:  158 training loss:  0.14922427339661226\n",
      "epoch:  159 training loss:  0.1279969697643537\n",
      "epoch:  160 training loss:  0.09586292970379873\n",
      "epoch:  161 training loss:  0.21339387016996625\n",
      "epoch:  162 training loss:  0.13892828808457125\n",
      "epoch:  163 training loss:  0.1964317762558494\n",
      "epoch:  164 training loss:  0.1234308278944809\n",
      "epoch:  165 training loss:  0.10898545690724859\n",
      "epoch:  166 training loss:  0.18125434871035395\n",
      "epoch:  167 training loss:  0.1441640562716202\n",
      "epoch:  168 training loss:  0.1793401245959103\n",
      "epoch:  169 training loss:  0.15463879779417766\n",
      "epoch:  170 training loss:  0.13170642075419892\n",
      "epoch:  171 training loss:  0.10948521067621186\n",
      "epoch:  172 training loss:  0.18869719798931328\n",
      "epoch:  173 training loss:  0.13408893967243785\n",
      "epoch:  174 training loss:  0.13945350501307985\n",
      "epoch:  175 training loss:  0.12138990967105201\n"
     ]
    },
    {
     "name": "stdout",
     "output_type": "stream",
     "text": [
      "epoch:  176 training loss:  0.08932932719108067\n",
      "epoch:  177 training loss:  0.12827184591878904\n",
      "epoch:  178 training loss:  0.1257866652795201\n",
      "epoch:  179 training loss:  0.09652337915758835\n",
      "epoch:  180 training loss:  0.14509153613289527\n",
      "epoch:  181 training loss:  0.18345255110034486\n",
      "epoch:  182 training loss:  0.16580485539634537\n",
      "epoch:  183 training loss:  0.17498224356677383\n",
      "epoch:  184 training loss:  0.09050322441544267\n",
      "epoch:  185 training loss:  0.14011152683087857\n",
      "epoch:  186 training loss:  0.1187199447540479\n",
      "epoch:  187 training loss:  0.13159900381288026\n",
      "epoch:  188 training loss:  0.1285035543533013\n",
      "epoch:  189 training loss:  0.09750888888902409\n",
      "epoch:  190 training loss:  0.17709994128153994\n",
      "epoch:  191 training loss:  0.2304085740188384\n",
      "epoch:  192 training loss:  0.1659717456168437\n",
      "epoch:  193 training loss:  0.13311728643020615\n",
      "epoch:  194 training loss:  0.14862008682848682\n",
      "epoch:  195 training loss:  0.13495919637352927\n",
      "epoch:  196 training loss:  0.1292189538016828\n",
      "epoch:  197 training loss:  0.08960624636893044\n",
      "epoch:  198 training loss:  0.14743973711665603\n",
      "epoch:  199 training loss:  0.09920274065734702\n"
     ]
    }
   ],
   "source": [
    "## train for 200 epochs\n",
    "n_epochs = 200\n",
    "train_losses = train_model(Xd, Yd, batch_size, epochs=n_epochs)"
   ]
  },
  {
   "cell_type": "markdown",
   "metadata": {},
   "source": [
    "## Generate Poem"
   ]
  },
  {
   "cell_type": "code",
   "execution_count": 368,
   "metadata": {},
   "outputs": [],
   "source": [
    "def generate_poem(poem_model, initial_seed, num_word_gen, t=1):\n",
    "    seed = copy.deepcopy(initial_seed)  # random seed\n",
    "    generated_poem = [int_to_word[value] for value in seed]\n",
    "    \n",
    "    for i in range(num_word_gen):\n",
    "        Xt = np.reshape(seed, (1, len(seed), 1))\n",
    "        Xt = Xt/word_set_size\n",
    "\n",
    "        Xt = torch.tensor(Xt, dtype=torch.float)\n",
    "        poem_model.init_hidden(Xt.shape[0])\n",
    "        y = torch.argmax(poem_model(Xt, T=t))\n",
    "        index = y.numpy().item(0)\n",
    "\n",
    "        generated_poem.append(int_to_word[index])\n",
    "\n",
    "        seed.append(index)\n",
    "        seed = seed[1:len(seed)]\n",
    "        \n",
    "    poem_text = \"\"\n",
    "    for word in generated_poem:\n",
    "        poem_text += word\n",
    "        poem_text += \" \"\n",
    "\n",
    "#     print(poem_text)\n",
    "    return poem_text"
   ]
  },
  {
   "cell_type": "code",
   "execution_count": 369,
   "metadata": {},
   "outputs": [],
   "source": [
    "poem_word_model = Poem(seq_length, input_feature, hidden_size, lstm_layers, word_set_size, device).to(device)\n",
    "poem_word_model.load_state_dict(torch.load('model_poem_word_gen.pt'))"
   ]
  },
  {
   "cell_type": "code",
   "execution_count": 378,
   "metadata": {},
   "outputs": [
    {
     "name": "stdout",
     "output_type": "stream",
     "text": [
      "trenches in thy beauty 's field , \n",
      " thy youth 's title my invention gazed a \n",
      " for heavily heart were self thine body ? \n",
      " \n",
      " \n",
      " but am my shalt to have the , \n",
      " \n",
      " no no the to affections hast thing judgement , \n",
      " for how they spites 's my the his , as art \n",
      " i hath i with hold marriage my have deep \n",
      " \n",
      " but constant my which fair thee fiend mine ride friend , \n",
      " as when all counterpart face , me hand i , new is , \n",
      " and whilst that may face , death kept , \n",
      " \n",
      " eyes that \n"
     ]
    }
   ],
   "source": [
    "print(generate_poem(poem_word_model, X[40], 100, t=1))"
   ]
  },
  {
   "cell_type": "markdown",
   "metadata": {},
   "source": [
    "# Plotting the Training Losses\n",
    "\n",
    "Plotting the historical loss during training:"
   ]
  },
  {
   "cell_type": "code",
   "execution_count": 373,
   "metadata": {},
   "outputs": [
    {
     "data": {
      "image/png": "[encoded data removed]",
      "text/plain": [
       "<Figure size 432x288 with 1 Axes>"
      ]
     },
     "metadata": {},
     "output_type": "display_data"
    }
   ],
   "source": [
    "###\n",
    "#************************************#\n",
    "# print('Epoch\\tTraining Loss')\n",
    "# for i in range(n_epochs):\n",
    "#     print(i+1, '\\t{:.8f}'.format(train_losses[i]))\n",
    "\n",
    "plt.plot(train_losses, label='Loss')\n",
    "plt.legend(frameon=False)\n",
    "plt.xlabel('epochs')\n",
    "plt.ylabel('training loss')\n",
    "plt.title('Training Loss for 200 epochs')\n",
    "plt.show()\n",
    "#************************************#"
   ]
  },
  {
   "cell_type": "markdown",
   "metadata": {},
   "source": [
    "# Evaluating at different \"temperatures\"\n",
    "\n",
    "Changing the `temperature` argument (variance) for 1.5, 0.75. 0.25 and sample outputs from the trained model."
   ]
  },
  {
   "cell_type": "code",
   "execution_count": 380,
   "metadata": {
    "scrolled": true
   },
   "outputs": [
    {
     "name": "stdout",
     "output_type": "stream",
     "text": [
      "Temperature:  1.5\n",
      "------------------------------------------------------------------\n",
      "shall i compare thee to a summer 's day ? \n",
      " do thou to record than , see all art who in composed nothing in , \n",
      " dream all \n",
      " who is by that is , 2 a \n",
      " if how do those self have the , , why onset stand in my deformed to feeding \n",
      " \n",
      " the like of have with , pain knows , \n",
      " which shall time stamped becoming such earthly , \n",
      " \n",
      " that that the , the makes of to , old when fair , \n",
      " where of i this to change thou shade look , \n",
      " triumph in your praise of my be \n",
      "------------------------------------------------------------------\n",
      "Temperature:  0.75\n",
      "------------------------------------------------------------------\n",
      "shall i compare thee to a summer 's day ? \n",
      " do thou to record than , thy dear art \n",
      " and dig the so gave bastard i your be , \n",
      " to ten my of by i reason thou ) \n",
      " 138 when be was saint soundless jewels -bettering and of , to thy that , and is of , thing : you cannot of , history , she , \n",
      " more more the love in my , yet young , \n",
      " which i thou life it youth of part thine , \n",
      " \n",
      " \n",
      " if their doth doth hath hear in . \n",
      " and constant some the muse \n",
      "------------------------------------------------------------------\n",
      "Temperature:  0.25\n",
      "------------------------------------------------------------------\n",
      "shall i compare thee to a summer 's day ? \n",
      " do thou to to fading i such proceeds , \n",
      " in if be my art \n",
      " \n",
      " and that beauty the had too ) , \n",
      " and since beauty is sway my of own , \n",
      " stealing stones they my , \n",
      "\n",
      "\n",
      " methinks may (sovereign too this they ) and i you true thing it when on , \n",
      " and in in days , dream as best all \n",
      " for me fair , \n",
      " ah \n",
      " all wise dead cruel my my , own dost , \n",
      " yet do others love and and and who that breathes of he \n",
      "------------------------------------------------------------------\n"
     ]
    }
   ],
   "source": [
    "###\n",
    "ts = [1.5, 0.75, 0.25]\n",
    "seed_str = [\"shall\", \"i\", \"compare\", \"thee\", \"to\", \"a\", \"summer\", \"'s\", \"day\", \"?\"]\n",
    "seed = [word_to_int[char] for char in seed_str]\n",
    "\n",
    "for temp in ts:\n",
    "    poem_model = Poem(seq_length, input_feature, hidden_size, lstm_layers, word_set_size, device).to(device)\n",
    "    poem_model.load_state_dict(torch.load('model_poem_word_gen.pt'))\n",
    "    \n",
    "    poem = generate_poem(poem_model, seed, 100, t=temp)\n",
    "\n",
    "    print('Temperature: ', temp)\n",
    "    print('------------------------------------------------------------------')\n",
    "    print(poem)\n",
    "    print('------------------------------------------------------------------')"
   ]
  },
  {
   "cell_type": "code",
   "execution_count": null,
   "metadata": {},
   "outputs": [],
   "source": []
  }
 ],
 "metadata": {
  "anaconda-cloud": {},
  "kernelspec": {
   "display_name": "Python 3",
   "language": "python",
   "name": "python3"
  },
  "language_info": {
   "codemirror_mode": {
    "name": "ipython",
    "version": 3
   },
   "file_extension": ".py",
   "mimetype": "text/x-python",
   "name": "python",
   "nbconvert_exporter": "python",
   "pygments_lexer": "ipython3",
   "version": "3.6.8"
  }
 },
 "nbformat": 4,
 "nbformat_minor": 1
}
